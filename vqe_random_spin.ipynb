{
 "cells": [
  {
   "cell_type": "markdown",
   "metadata": {},
   "source": [
    "# Variational quantum eigensolving\n",
    "\n",
    "Here, we generate a random Hamiltonian and use a simple ansatz to approximate its ground state energy by the Variational Quantum Eigensolver (VQE) method.\n",
    "\n",
    "## Defining the Hamiltonian\n",
    "\n",
    "\n",
    "### The Heisenberg Hamiltonian\n",
    "\n",
    "We start by defining the Hamiltonian we want to find an approximate ground state of. Let us start with the Heisenberg Hamiltonian:\n",
    "\n",
    "$$H=J\\left(\\hat{S}_{1}^{x}\\hat{S}_{2}^{x}+\\hat{S}_{1}^{y}\\hat{S}_{2}^{y}+\\hat{S}_{1}^{z}\\hat{S}_{2}^{z}\\right).$$\n",
    "\n",
    "In myQLM, Hamiltonians are implemented with ``Observable`` objects (https://myqlm.github.io/qat-core.html#module-qat.core.wrappers.observable).\n",
    "\n",
    "\n"
   ]
  },
  {
   "cell_type": "code",
   "execution_count": null,
   "metadata": {},
   "outputs": [],
   "source": [
    "%load_ext autoreload\n",
    "%autoreload 2\n",
    "import numpy as np\n",
    "from qat.core import Observable, Term\n",
    "\n",
    "nqbits = 2\n",
    "terms = [Term(1, \"%s%s\"%(p, p), [0, 1]) for p in [\"X\", \"Y\", \"Z\"]]\n",
    "\n",
    "hamiltonian = Observable(nqbits, pauli_terms=terms)\n",
    "print(\"H:\", hamiltonian)"
   ]
  },
  {
   "cell_type": "markdown",
   "metadata": {},
   "source": [
    "Because $H$ is defined on a small number of qubits, we can afford to diagonalize it exactly and thus compute the exact GS energy:"
   ]
  },
  {
   "cell_type": "code",
   "execution_count": null,
   "metadata": {},
   "outputs": [],
   "source": [
    "from utils_tuto import make_matrix\n",
    "H_mat = make_matrix(hamiltonian)\n",
    "eigvals, eigvecs = np.linalg.eigh(H_mat)\n",
    "E0 = min(eigvals)"
   ]
  },
  {
   "cell_type": "code",
   "execution_count": null,
   "metadata": {},
   "outputs": [],
   "source": [
    "print(eigvecs[:, 0])\n",
    "print(E0)"
   ]
  },
  {
   "cell_type": "markdown",
   "metadata": {},
   "source": [
    "### A slighly more complicated Hamiltonian\n",
    "\n",
    "For later purposes, we define a random Hamiltonian with 5 terms acting on 3 qubits.\n"
   ]
  },
  {
   "cell_type": "code",
   "execution_count": null,
   "metadata": {},
   "outputs": [],
   "source": [
    "def make_random_hamiltonian(nqbits, nterms):\n",
    "    terms = []\n",
    "    for _ in range(nterms):\n",
    "        coeff = np.random.random()\n",
    "        ops = \"\".join(np.random.choice([\"X\", \"Z\"], size=nqbits))\n",
    "        qbits = np.random.choice(nqbits, size=nqbits, replace=False)\n",
    "        terms.append(Term(coefficient=coeff, pauli_op=ops, qbits=qbits))\n",
    "    hamiltonian = Observable(nqbits, pauli_terms=terms)\n",
    "    return hamiltonian\n",
    "\n",
    "\n",
    "nqbits = 3\n",
    "nterms = 5\n",
    "np.random.seed(1423543) #fixing seed to have reproducible results\n",
    "hamiltonian = make_random_hamiltonian(nqbits, nterms)\n",
    "print(\"H:\", hamiltonian)"
   ]
  },
  {
   "cell_type": "markdown",
   "metadata": {},
   "source": [
    "## Constructing a variational circuit\n",
    "\n",
    "In the cell below, we construct a variational circuit, with $2 n_\\mathrm{qbits}$ parameters $\\vec{\\theta}$. We choose only $R_y(\\theta)$ rotations because we know the ground state to have only real amplitudes."
   ]
  },
  {
   "cell_type": "code",
   "execution_count": null,
   "metadata": {},
   "outputs": [],
   "source": [
    "from qat.lang.AQASM import Program, QRoutine, RY, CNOT, RX, Z, H, RZ\n",
    "\n",
    "def make_ansatz(use_cnots):\n",
    "    # function that prepares an ansatz circuit\n",
    "    \n",
    "    prog = Program()\n",
    "    reg = prog.qalloc(nqbits)\n",
    "    theta = [prog.new_var(float, '\\\\theta_%s'%i)\n",
    "             for i in range(nqbits * 2)]\n",
    "    for ind in range(nqbits):\n",
    "        RY(theta[ind])(reg[ind])\n",
    "    if use_cnots:   \n",
    "        for qb in range(nqbits-1):\n",
    "            CNOT(reg[qb], reg[(qb+1)%nqbits])\n",
    "    for ind in range(nqbits, 2*nqbits):\n",
    "        RY(theta[ind])(reg[ind - nqbits])\n",
    "    if use_cnots:   \n",
    "        for qb in range(nqbits-1):\n",
    "            CNOT(reg[qb], reg[(qb+1)%nqbits])\n",
    "    \n",
    "    circ = prog.to_circ()\n",
    "    \n",
    "    return circ\n",
    "\n",
    "circ = make_ansatz(use_cnots=True)\n",
    "%qatdisplay circ"
   ]
  },
  {
   "cell_type": "markdown",
   "metadata": {},
   "source": [
    "This ansatz circuit produces an entangled state thanks to the CNOT gates.\n",
    "\n",
    "## Creating a variational job and a variational stack\n",
    "\n",
    "We now create a variational job from this circuit and observable.\n",
    "It is then submitted to a variational stack composed of a perfect QPU, ``LinAlg``, and a variational plugin, ``ScipyMinimizePlugin``. The latter handles parametric jobs. These are jobs whose circuit contains a parameter that is then going to be optimized, using classical optimizers, so as to minimize the value of the observable over the final state.\n",
    "\n",
    "Below, we are going to test three different classical optimizers: COBYLA, Nelder-Mead, and BFGS."
   ]
  },
  {
   "cell_type": "code",
   "execution_count": null,
   "metadata": {},
   "outputs": [],
   "source": [
    "from qat.qpus import get_default_qpu\n",
    "from qat.plugins import ScipyMinimizePlugin\n",
    "\n",
    "circ = make_ansatz(use_cnots=True)\n",
    "job = circ.to_job(job_type=\"OBS\",\n",
    "                  observable=hamiltonian,\n",
    "                  nbshots=10000) # this is quite large. Try also nbshots=0\n",
    "\n",
    "theta_0 = np.random.random(size=nqbits*2)\n",
    "\n",
    "from qat.plugins import SPSAMinimizePlugin\n",
    "linalg_qpu = get_default_qpu()\n",
    "methods = [\"COBYLA\", \"Nelder-Mead\", \"BFGS\", \"SPSA\"]\n",
    "result = {}\n",
    "for method in methods:\n",
    "    if method == \"SPSA\":\n",
    "        optimizer = SPSAMinimizePlugin(x0=theta_0) \n",
    "    else:\n",
    "        optimizer = ScipyMinimizePlugin(method=method,\n",
    "                                        tol=1e-6,\n",
    "                                        options={\"maxiter\": 200},\n",
    "                                        x0=theta_0)\n",
    "    qpu = optimizer | linalg_qpu\n",
    "    result[method] = qpu.submit(job)\n",
    "\n",
    "    print(\"Minimum VQE energy (%s) = %s\"%(method, result[method].value))"
   ]
  },
  {
   "cell_type": "markdown",
   "metadata": {},
   "source": [
    "One can check that the final optimized energy is not so close to the exact GS energy... but what happens when use_cnots=True?\n",
    "\n",
    "## Plotting the results\n",
    "\n",
    "Let us now plot the value of the variational energy over the course of the classical optimization. For this, we can retrieve information about the variational job execution in the ``meta_data`` field of the result."
   ]
  },
  {
   "cell_type": "code",
   "execution_count": null,
   "metadata": {},
   "outputs": [],
   "source": [
    "%matplotlib inline\n",
    "import matplotlib.pyplot as plt\n",
    "for method in methods:\n",
    "    plt.plot(eval(result[method].meta_data['optimization_trace']),\n",
    "             label=method)\n",
    "    \n",
    "from utils_tuto import make_matrix\n",
    "H_mat = make_matrix(hamiltonian)\n",
    "eigvals = np.linalg.eigvalsh(H_mat)\n",
    "E0 = min(eigvals)\n",
    "\n",
    "plt.plot([E0 for _ in range(300)], '--k', lw=3, label=\"exact energy\")\n",
    "    \n",
    "plt.grid()\n",
    "plt.legend(loc=\"best\")\n",
    "plt.xlabel(\"Steps\")\n",
    "plt.ylabel(\"Energy\");"
   ]
  },
  {
   "cell_type": "markdown",
   "metadata": {},
   "source": [
    "We can see that COBYLA & SPSA converge faster than the other two methods."
   ]
  },
  {
   "cell_type": "markdown",
   "metadata": {},
   "source": [
    "### With a noisy QPU"
   ]
  },
  {
   "cell_type": "code",
   "execution_count": null,
   "metadata": {},
   "outputs": [],
   "source": [
    "import time\n",
    "from depolarizing_plugin import DepolarizingPlugin\n",
    "depol_plugin = DepolarizingPlugin(prob_1qb=0.005, prob_2qb=0.05)\n",
    "qpu = get_default_qpu()\n",
    "noisy_qpu = depol_plugin | qpu\n",
    "\n",
    "method = \"COBYLA\"\n",
    "optimizer = ScipyMinimizePlugin(method=method,\n",
    "                                tol=1e-6,\n",
    "                                options={\"maxiter\": 200},\n",
    "                                x0=theta_0)\n",
    "qpu = optimizer | noisy_qpu\n",
    "st = time.time()\n",
    "result[method+\"-noisy\"] = qpu.submit(job)\n",
    "\n",
    "print(\"Minimum VQE energy (%s) = %s [%s seconds]\"%(method, result[method].value, time.time() - st))"
   ]
  },
  {
   "cell_type": "code",
   "execution_count": null,
   "metadata": {},
   "outputs": [],
   "source": [
    "for method in result.keys():\n",
    "    plt.plot(eval(result[method].meta_data['optimization_trace']),\n",
    "             label=method)\n",
    "    \n",
    "from utils_tuto import make_matrix\n",
    "H_mat = make_matrix(hamiltonian)\n",
    "eigvals = np.linalg.eigvalsh(H_mat)\n",
    "E0 = min(eigvals)\n",
    "\n",
    "plt.plot([E0 for _ in range(300)], '--k', lw=3, label=\"exact energy\")\n",
    "    \n",
    "plt.grid()\n",
    "plt.legend(loc=\"best\")\n",
    "plt.xlabel(\"Steps\")\n",
    "plt.ylabel(\"Energy\");"
   ]
  }
 ],
 "metadata": {
  "kernelspec": {
   "display_name": "Python 3",
   "language": "python",
   "name": "python3"
  },
  "language_info": {
   "codemirror_mode": {
    "name": "ipython",
    "version": 3
   },
   "file_extension": ".py",
   "mimetype": "text/x-python",
   "name": "python",
   "nbconvert_exporter": "python",
   "pygments_lexer": "ipython3",
   "version": "3.6.8"
  }
 },
 "nbformat": 4,
 "nbformat_minor": 4
}
